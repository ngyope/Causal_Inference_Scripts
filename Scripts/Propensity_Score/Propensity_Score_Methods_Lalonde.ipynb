{
  "nbformat": 4,
  "nbformat_minor": 0,
  "metadata": {
    "colab": {
      "name": "Propensity_Score_Methods_Lalonde.ipynb",
      "provenance": [],
      "collapsed_sections": []
    },
    "kernelspec": {
      "name": "ir",
      "display_name": "R"
    }
  },
  "cells": [
    {
      "cell_type": "code",
      "metadata": {
        "id": "cNbzqjFvcs_l",
        "colab_type": "code",
        "colab": {}
      },
      "source": [
        "library(tidyverse)\n",
        "library(haven)\n",
        "install.packages(\"MatchIt\"); library(MatchIt)\n",
        "install.packages(\"WeightIt\"); library(WeightIt)\n",
        "install.packages(\"cobalt\");library(cobalt)\n",
        "install.packages(\"gbm\"); library(gbm)\n",
        "install.packages(\"CBPS\"); library(CBPS)\n",
        "install.packages(\"causalsens\"); library(causalsens)"
      ],
      "execution_count": 0,
      "outputs": []
    },
    {
      "cell_type": "markdown",
      "metadata": {
        "id": "cOENPCx_yqFi",
        "colab_type": "text"
      },
      "source": [
        "This scripts uses the famous Lalonde dataset. So, let's get it."
      ]
    },
    {
      "cell_type": "code",
      "metadata": {
        "id": "QNQEU-R4jtoV",
        "colab_type": "code",
        "colab": {}
      },
      "source": [
        "cps1_data <- read_dta(\"https://users.nber.org/~rdehejia/data/cps_controls.dta\")\n",
        "cps3_data <- read_dta(\"https://users.nber.org/~rdehejia/data/cps_controls3.dta\")\n",
        "nswdw_data <- read_dta(\"https://users.nber.org/~rdehejia/data/nsw_dw.dta\")"
      ],
      "execution_count": 0,
      "outputs": []
    },
    {
      "cell_type": "code",
      "metadata": {
        "id": "prU3H_WseIvl",
        "colab_type": "code",
        "colab": {}
      },
      "source": [
        "# Extract the treatment group from NSW Data and treat it as a treatment group in CPS1.\n",
        "cps1_nsw_data <- nswdw_data %>% \n",
        "    filter(treat==1) %>% \n",
        "    rbind(cps1_data)\n",
        "\n",
        "# Extract the treatment group from NSW Data and treat it as a treatment group in CPS3.\n",
        "cps3_nsw_data <- nswdw_data %>% \n",
        "    filter(treat==1) %>%\n",
        "    rbind(cps3_data)"
      ],
      "execution_count": 0,
      "outputs": []
    },
    {
      "cell_type": "markdown",
      "metadata": {
        "id": "6-HKQcuxy589",
        "colab_type": "text"
      },
      "source": [
        "Define the formulas previously.  \n",
        "In this script, we don't include \"re75\" as a covariate because it will be used to assess the unconfoundedness later."
      ]
    },
    {
      "cell_type": "code",
      "metadata": {
        "id": "H1iTb8pWjF7-",
        "colab_type": "code",
        "colab": {}
      },
      "source": [
        "# Formula of outcome model\n",
        "frml_out <- as.formula(re78 ~ treat + age + education + black + hispanic + married + nodegree + re74 + I(re74^2))\n",
        "\n",
        "# Formula of treatment model\n",
        "frml_treat <- as.formula(treat ~ age + education + black + hispanic + married + nodegree + re74 + I(re74^2))"
      ],
      "execution_count": 0,
      "outputs": []
    },
    {
      "cell_type": "markdown",
      "metadata": {
        "id": "JvhJFhBWzAQe",
        "colab_type": "text"
      },
      "source": [
        "First, we create matching models via the \"matchit()\" function.\n"
      ]
    },
    {
      "cell_type": "code",
      "metadata": {
        "id": "eBweCS7GkOHZ",
        "colab_type": "code",
        "colab": {}
      },
      "source": [
        "# nearest neighbor matching\n",
        "m_out_nn_1 <- matchit(frml_treat, cps1_nsw_data, method=\"nearest\", ratio=1, replace=TRUE, discard=\"control\")\n",
        "m_out_nn_4 <- matchit(frml_treat, cps1_nsw_data, method=\"nearest\", ratio=4, replace=TRUE, discard=\"control\")\n",
        "\n",
        "# subclassification\n",
        "m_out_subclass <- matchit(frml_treat, cps1_nsw_data, method=\"subclass\", subclass=10, discard=\"control\")\n",
        "\n",
        "# caliper matching\n",
        "m_out_caliper <- matchit(frml_treat, cps1_nsw_data, method=\"nearest\", replace=TRUE, caliper=.01, ratio=1, discard=\"control\")"
      ],
      "execution_count": 0,
      "outputs": []
    },
    {
      "cell_type": "markdown",
      "metadata": {
        "id": "3OshnIiB0Y4K",
        "colab_type": "text"
      },
      "source": [
        "Next, we create weighting models via the \"weightit()\" function."
      ]
    },
    {
      "cell_type": "code",
      "metadata": {
        "id": "Lpnjb7BgiCKk",
        "colab_type": "code",
        "colab": {}
      },
      "source": [
        "# models\n",
        "w_out_ps <- weightit(frml_treat, cps1_nsw_data, method=\"ps\", estimand=\"ATT\")\n",
        "w_out_gbm <- weightit(frml_treat, cps1_nsw_data, method=\"gbm\", stop.method=\"es.mean\", estimand=\"ATT\", bag.fraction=0.7, cv.folds=5)\n",
        "w_out_cbps <- weightit(frml_treat, cps1_nsw_data, method=\"cbps\", estimand=\"ATT\")"
      ],
      "execution_count": 0,
      "outputs": []
    },
    {
      "cell_type": "markdown",
      "metadata": {
        "id": "gQ5fRjEftgtw",
        "colab_type": "text"
      },
      "source": [
        "Some extreme weights were generated.  \n",
        "So, let's check the summary of weighted models, and next, trim the extreme weights via the \"trim()\" function."
      ]
    },
    {
      "cell_type": "code",
      "metadata": {
        "id": "MJVHCFzd0lCt",
        "colab_type": "code",
        "colab": {}
      },
      "source": [
        "print(summary(w_out_ps))\n",
        "print(summary(w_out_gbm))\n",
        "print(summary(w_out_cbps))"
      ],
      "execution_count": 0,
      "outputs": []
    },
    {
      "cell_type": "code",
      "metadata": {
        "id": "eXDl9bQ801ND",
        "colab_type": "code",
        "colab": {}
      },
      "source": [
        "# Trimming and re-check the summary.\n",
        "w_out_ps_trm <- w_out_ps %>% trim(at=5, lower=TRUE)\n",
        "w_out_gbm_trm <- w_out_gbm %>% trim(at=2, lower=TRUE)\n",
        "w_out_cbps_trm <- w_out_cbps %>% trim(at=5, lower=TRUE)\n",
        "summary(w_out_ps_trm)\n",
        "summary(w_out_gbm_trm)\n",
        "summary(w_out_cbps_trm)"
      ],
      "execution_count": 0,
      "outputs": []
    },
    {
      "cell_type": "markdown",
      "metadata": {
        "id": "3e5ZfNfP2g3k",
        "colab_type": "text"
      },
      "source": [
        "Check the covariate balance by love.plot() in \"cobalt\" package."
      ]
    },
    {
      "cell_type": "code",
      "metadata": {
        "id": "k2gBl3WoiJDk",
        "colab_type": "code",
        "colab": {}
      },
      "source": [
        "# matching models\n",
        "love.plot(frml_treat, data=cps1_nsw_data,\n",
        "          weights=data.frame(Nearest_Neighbor_1=get.w(m_out_nn_1),\n",
        "                             Nearest_Neighbor_4=get.w(m_out_nn_4),\n",
        "                             Subclassification=get.w(m_out_subclass),\n",
        "                             Caliper=get.w(m_out_caliper)),\n",
        "          method=c(\"matching\", \"matching\", \"matching\", \"matching\"),\n",
        "          binary=\"std\", s.d.denom=\"treated\", grid=FALSE, threshold=.1, limits=c(0,1))"
      ],
      "execution_count": 0,
      "outputs": []
    },
    {
      "cell_type": "code",
      "metadata": {
        "id": "HUoVORKhk-ti",
        "colab_type": "code",
        "colab": {}
      },
      "source": [
        "# Weighting models\n",
        "love.plot(frml_treat, data=cps1_nsw_data,\n",
        "          weights=data.frame(PS=get.w(w_out_ps_trm),\n",
        "                             GBM=get.w(w_out_gbm_trm),\n",
        "                             CBPS=get.w(w_out_cbps_trm)),\n",
        "          method=c(\"weighting\", \"weighting\", \"weighting\"),\n",
        "          binary=\"std\", s.d.denom=\"treated\", grid=FALSE, threshold=.1, limits=c(0,1))"
      ],
      "execution_count": 0,
      "outputs": []
    },
    {
      "cell_type": "code",
      "metadata": {
        "id": "73dTNXQ9eVLm",
        "colab_type": "code",
        "colab": {}
      },
      "source": [
        "# check the covariate balance per covariate\n",
        "bal.plot(m_out_nn_1, var.name=\"distance\", which=\"both\", type=\"histogram\", mirror=TRUE)"
      ],
      "execution_count": 0,
      "outputs": []
    },
    {
      "cell_type": "markdown",
      "metadata": {
        "id": "Fn-EEf402p1t",
        "colab_type": "text"
      },
      "source": [
        "Get the estimated ATT via the linear model."
      ]
    },
    {
      "cell_type": "code",
      "metadata": {
        "id": "KYKVjo_CzZIt",
        "colab_type": "code",
        "colab": {}
      },
      "source": [
        "# matching methods\n",
        "matched_data <- list(match.data(m_out_nn_1),\n",
        "                     match.data(m_out_nn_4),\n",
        "                     match.data(m_out_subclass),\n",
        "                     match.data(m_out_caliper))\n",
        "model_label1 <- c(\"nearest neighbor ratio 1\", \"nearest neighbor ratio 4\", \"subclassification\", \"caliper\")\n",
        "\n",
        "for(i in 1:length(matched_data)){\n",
        "  print(model_label1[[i]])\n",
        "  print(lm(re78 ~ treat, data=matched_data[[i]]) %>% broom::tidy())\n",
        "}"
      ],
      "execution_count": 0,
      "outputs": []
    },
    {
      "cell_type": "code",
      "metadata": {
        "id": "FKOkejTTzbmX",
        "colab_type": "code",
        "colab": {}
      },
      "source": [
        "# weighting methods\n",
        "weighted_data <- list(w_out_ps_trm, w_out_gbm_trm, w_out_cbps_trm)\n",
        "model_label2 <- c(\"PS\", \"GBM\", \"CBPS\")\n",
        "\n",
        "for(i in 1:length(weighted_data)){\n",
        "  print(model_label2[[i]])\n",
        "  print(lm(re78 ~ treat, data=cps1_nsw_data, weights=weighted_data[[i]]$weights) %>% broom::tidy())\n",
        "}"
      ],
      "execution_count": 0,
      "outputs": []
    },
    {
      "cell_type": "markdown",
      "metadata": {
        "id": "N2fOoR8e274J",
        "colab_type": "text"
      },
      "source": [
        "Doubly Robust Estimator."
      ]
    },
    {
      "cell_type": "code",
      "metadata": {
        "id": "NNdyJPJY2_kc",
        "colab_type": "code",
        "colab": {}
      },
      "source": [
        "# weighting methods\n",
        "weighted_data <- list(w_out_ps_trm, w_out_gbm_trm, w_out_cbps_trm)\n",
        "model_label2 <- c(\"PS\", \"GBM\", \"CBPS\")\n",
        "\n",
        "for(i in 1:length(weighted_data)){\n",
        "  print(model_label2[[i]])\n",
        "  print(lm(frml_out, data=cps1_nsw_data, weights=weighted_data[[i]]$weights) %>% broom::tidy())\n",
        "}"
      ],
      "execution_count": 0,
      "outputs": []
    },
    {
      "cell_type": "markdown",
      "metadata": {
        "id": "ay0Bp4J4-mPc",
        "colab_type": "text"
      },
      "source": [
        "Sensitivity analysis."
      ]
    },
    {
      "cell_type": "code",
      "metadata": {
        "id": "sH8TtHv03b1s",
        "colab_type": "code",
        "colab": {}
      },
      "source": [
        "model_out <- lm(frml_out, data=cps1_nsw_data)\n",
        "model_treat <- glm(frml_treat, data=cps1_nsw_data, family=binomial())\n",
        "alpha <- seq(-4500, 4500, by = 250)\n",
        "\n",
        "ll_sens <- causalsens(model_out, model_treat, ~ age + education, data=cps1_nsw_data, confound=one.sided.att, alpha=alpha)\n",
        "\n",
        "plot(ll_sens, type=\"raw\", bty=\"n\")\n",
        "plot(ll_sens, type=\"r.squared\", bty=\"n\")"
      ],
      "execution_count": 0,
      "outputs": []
    },
    {
      "cell_type": "markdown",
      "metadata": {
        "id": "izjv4JdVvS6r",
        "colab_type": "text"
      },
      "source": [
        "Unconfoundedness assessment.  \n",
        "We regress the lag variable \"re75\" by the covariates in order to assess the unconfoundedness.  \n",
        "If the result is null or ignorably small, it can be regarded as one of the clue of the unconfoundedness."
      ]
    },
    {
      "cell_type": "code",
      "metadata": {
        "id": "Z2Hl8SPDvVD1",
        "colab_type": "code",
        "colab": {}
      },
      "source": [
        "# matching methods\n",
        "matched_data <- list(match.data(m_out_nn_1),\n",
        "                     match.data(m_out_nn_4),\n",
        "                     match.data(m_out_subclass),\n",
        "                     match.data(m_out_caliper))\n",
        "model_label1 <- c(\"nearest neighbor ratio 1\", \"nearest neighbor ratio 4\", \"subclassification\", \"caliper\")\n",
        "\n",
        "for(i in 1:length(matched_data)){\n",
        "  print(model_label1[[i]])\n",
        "  print(lm(re75 ~ treat, data=matched_data[[i]]) %>% broom::tidy())\n",
        "}"
      ],
      "execution_count": 0,
      "outputs": []
    },
    {
      "cell_type": "code",
      "metadata": {
        "id": "JnzoFwo2vqEk",
        "colab_type": "code",
        "colab": {}
      },
      "source": [
        "# weighting methods\n",
        "weighted_data <- list(w_out_ps_trm, w_out_gbm_trm, w_out_cbps_trm)\n",
        "model_label2 <- c(\"PS\", \"GBM\", \"CBPS\")\n",
        "\n",
        "for(i in 1:length(weighted_data)){\n",
        "  print(model_label2[[i]])\n",
        "  print(lm(re75 ~ treat, data=cps1_nsw_data, weights=weighted_data[[i]]$weights) %>% broom::tidy())\n",
        "}"
      ],
      "execution_count": 0,
      "outputs": []
    },
    {
      "cell_type": "markdown",
      "metadata": {
        "id": "adMbp9ATwwdd",
        "colab_type": "text"
      },
      "source": [
        "The outcomes of the treatment / control groups are statistically different.  \n",
        "So, there may be unadjusted confounding factors in our models."
      ]
    }
  ]
}